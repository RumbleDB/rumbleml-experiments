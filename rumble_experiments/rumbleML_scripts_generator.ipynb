{
 "cells": [
  {
   "cell_type": "code",
   "execution_count": 1,
   "metadata": {},
   "outputs": [],
   "source": [
    "%load_ext autoreload\n",
    "%autoreload 2\n",
    "\n",
    "# Create mllib pipeline\n",
    "from dspipes import Pipelines, MllibPipelines, RumblePipelines"
   ]
  },
  {
   "cell_type": "markdown",
   "metadata": {},
   "source": [
    "### Write rumble query scripts"
   ]
  },
  {
   "cell_type": "code",
   "execution_count": null,
   "metadata": {},
   "outputs": [],
   "source": [
    "MODELS = ['logistic','RandomForest', 'LinearSVC', 'NB']\n",
    "ALL_PIPELINES = [0, 1, 3, 5]\n",
    "DATASETS = ['Criteo','YFCC']\n",
    "for d in DATASETS:\n",
    "    for i in ALL_PIPELINES:\n",
    "        for m in MODELS:\n",
    "            print(d, i, m)\n",
    "            program = RumblePipelines.create_rumble_program(f\"pipe_{i}\", clf_mode=f\"{m}\", dataset=f\"{d}\")\n",
    "            f = open(f\"./rumbleML_scripts/query_{i}_{m}_{d}.rumble\", \"w\")\n",
    "            f.write(program)\n",
    "            f.close()"
   ]
  },
  {
   "cell_type": "markdown",
   "metadata": {},
   "source": [
    "### Write rumble ablation query scripts"
   ]
  },
  {
   "cell_type": "code",
   "execution_count": 5,
   "metadata": {
    "scrolled": true
   },
   "outputs": [
    {
     "name": "stdout",
     "output_type": "stream",
     "text": [
      "Criteo 0 logistic\n",
      "oh\n",
      "Criteo 0 RandomForest\n",
      "oh\n",
      "Criteo 0 LinearSVC\n",
      "oh\n",
      "Criteo 0 NB\n",
      "oh\n",
      "Criteo 1 logistic\n",
      "oh\n",
      "Criteo 1 RandomForest\n",
      "oh\n",
      "Criteo 1 LinearSVC\n",
      "oh\n",
      "Criteo 1 NB\n",
      "oh\n",
      "Criteo 3 logistic\n",
      "oh\n",
      "Criteo 3 RandomForest\n",
      "oh\n",
      "Criteo 3 LinearSVC\n",
      "oh\n",
      "Criteo 3 NB\n",
      "oh\n",
      "Criteo 5 logistic\n",
      "oh\n",
      "Criteo 5 RandomForest\n",
      "oh\n",
      "Criteo 5 LinearSVC\n",
      "oh\n",
      "Criteo 5 NB\n",
      "oh\n",
      "YFCC 0 logistic\n",
      "YFCC 0 RandomForest\n",
      "YFCC 0 LinearSVC\n",
      "YFCC 0 NB\n",
      "YFCC 1 logistic\n",
      "YFCC 1 RandomForest\n",
      "YFCC 1 LinearSVC\n",
      "YFCC 1 NB\n",
      "YFCC 3 logistic\n",
      "YFCC 3 RandomForest\n",
      "YFCC 3 LinearSVC\n",
      "YFCC 3 NB\n",
      "YFCC 5 logistic\n",
      "YFCC 5 RandomForest\n",
      "YFCC 5 LinearSVC\n",
      "YFCC 5 NB\n",
      "Criteo 0 logistic\n",
      "oh\n",
      "Criteo 0 RandomForest\n",
      "oh\n",
      "Criteo 0 LinearSVC\n",
      "oh\n",
      "Criteo 0 NB\n",
      "oh\n",
      "Criteo 1 logistic\n",
      "oh\n",
      "Criteo 1 RandomForest\n",
      "oh\n",
      "Criteo 1 LinearSVC\n",
      "oh\n",
      "Criteo 1 NB\n",
      "oh\n",
      "Criteo 3 logistic\n",
      "oh\n",
      "Criteo 3 RandomForest\n",
      "oh\n",
      "Criteo 3 LinearSVC\n",
      "oh\n",
      "Criteo 3 NB\n",
      "oh\n",
      "Criteo 5 logistic\n",
      "oh\n",
      "Criteo 5 RandomForest\n",
      "oh\n",
      "Criteo 5 LinearSVC\n",
      "oh\n",
      "Criteo 5 NB\n",
      "oh\n",
      "YFCC 0 logistic\n",
      "YFCC 0 RandomForest\n",
      "YFCC 0 LinearSVC\n",
      "YFCC 0 NB\n",
      "YFCC 1 logistic\n",
      "YFCC 1 RandomForest\n",
      "YFCC 1 LinearSVC\n",
      "YFCC 1 NB\n",
      "YFCC 3 logistic\n",
      "YFCC 3 RandomForest\n",
      "YFCC 3 LinearSVC\n",
      "YFCC 3 NB\n",
      "YFCC 5 logistic\n",
      "YFCC 5 RandomForest\n",
      "YFCC 5 LinearSVC\n",
      "YFCC 5 NB\n",
      "Criteo 0 logistic\n",
      "oh\n",
      "Criteo 0 RandomForest\n",
      "oh\n",
      "Criteo 0 LinearSVC\n",
      "oh\n",
      "Criteo 0 NB\n",
      "oh\n",
      "Criteo 1 logistic\n",
      "oh\n",
      "Criteo 1 RandomForest\n",
      "oh\n",
      "Criteo 1 LinearSVC\n",
      "oh\n",
      "Criteo 1 NB\n",
      "oh\n",
      "Criteo 3 logistic\n",
      "oh\n",
      "Criteo 3 RandomForest\n",
      "oh\n",
      "Criteo 3 LinearSVC\n",
      "oh\n",
      "Criteo 3 NB\n",
      "oh\n",
      "Criteo 5 logistic\n",
      "oh\n",
      "Criteo 5 RandomForest\n",
      "oh\n",
      "Criteo 5 LinearSVC\n",
      "oh\n",
      "Criteo 5 NB\n",
      "oh\n",
      "YFCC 0 logistic\n",
      "YFCC 0 RandomForest\n",
      "YFCC 0 LinearSVC\n",
      "YFCC 0 NB\n",
      "YFCC 1 logistic\n",
      "YFCC 1 RandomForest\n",
      "YFCC 1 LinearSVC\n",
      "YFCC 1 NB\n",
      "YFCC 3 logistic\n",
      "YFCC 3 RandomForest\n",
      "YFCC 3 LinearSVC\n",
      "YFCC 3 NB\n",
      "YFCC 5 logistic\n",
      "YFCC 5 RandomForest\n",
      "YFCC 5 LinearSVC\n",
      "YFCC 5 NB\n"
     ]
    }
   ],
   "source": [
    "MODELS = ['logistic','RandomForest', 'LinearSVC', 'NB']\n",
    "ALL_PIPELINES = [0, 1, 3, 5]\n",
    "DATASETS = ['Criteo','YFCC']\n",
    "for k in [1000, 10000, 100000]:\n",
    "    for d in DATASETS:\n",
    "        for i in ALL_PIPELINES:\n",
    "            for m in MODELS:\n",
    "                print(d, i, m)\n",
    "                program = RumblePipelines.create_rumble_program(f\"pipe_{i}\", clf_mode=f\"{m}\", dataset=f\"{d}\", k=f\"{k}\")\n",
    "                f = open(f\"./rumbleML_scripts_k/query_{i}_{m}_{d}_{k}.rumble\", \"w\")\n",
    "                f.write(program)\n",
    "                f.close()"
   ]
  },
  {
   "cell_type": "code",
   "execution_count": 2,
   "metadata": {},
   "outputs": [
    {
     "name": "stdout",
     "output_type": "stream",
     "text": [
      "Hi!\n"
     ]
    },
    {
     "data": {
      "text/plain": [
       "'let $training-data := parquet-file(\"s3://rumbleml-data/output/output.parquet/\")\\nlet $test-data := parquet-file(\"s3://rumbleml-data/criteo.kaggle2014.test.parquet\")\\nlet $vector-assembler_2 := get-transformer(\"VectorAssembler\", {\"inputCols\" : [\"features\"], \"outputCol\" : \"transformedFeatures\"})\\nlet $randomforest := get-estimator(\"RandomForestClassifier\", {\"featuresCol\": \"transformedFeatures\", \"numTrees\": 5})\\nlet $pipeline := get-estimator(\"Pipeline\", {\"stages\": [$vector-assembler_2, $randomforest]})\\nlet $pip := $pipeline($training-data, {})\\nlet $prediction := $pip($test-data, {})\\nlet $total := 6042135\\nreturn count($prediction[$$.label eq $$.prediction]) div $total'"
      ]
     },
     "execution_count": 2,
     "metadata": {},
     "output_type": "execute_result"
    }
   ],
   "source": [
    "RumblePipelines.create_rumble_program(f\"pipe_0\", clf_mode=\"RandomForest\", dataset=f\"Criteo\")\n"
   ]
  },
  {
   "cell_type": "markdown",
   "metadata": {},
   "source": [
    "### Create all experiment bash script"
   ]
  },
  {
   "cell_type": "code",
   "execution_count": 10,
   "metadata": {},
   "outputs": [],
   "source": [
    "MODELS = ['logistic', 'RandomForest', 'LinearSVC', 'NB']\n",
    "ALL_PIPELINES = [0, 1, 3, 5]\n",
    "DATASETS = ['Criteo', 'YFCC']\n",
    "f = open(f\"./run_all_experiments.sh\", \"a\")\n",
    "for d in DATASETS:\n",
    "    for i in ALL_PIPELINES:\n",
    "        for m in MODELS:\n",
    "            res = f\"echo 'Experiment {i} {m} {d}'\\ntime spark-submit --name 'Experiment {i} {m} {d} Rumble' --conf spark.dynamicAllocation.enabled=false --num-executors 4 --executor-cores 2 --executor-memory 19g s3://rumbleml-data/rumble_experiments/rumbledb-1.16.0.jar --show-error-info yes --query-path 's3://rumbleml-data/rumble_experiments/query_{i}_{m}_{d}.rumble'\\ntime spark-submit --name 'Experiment {i} {m} {d} Spark' --conf spark.dynamicAllocation.enabled=false --num-executors 4 --executor-cores 2 --executor-memory 19g run_spark.py -m {m} -p {i} -d {d}\\n\"\n",
    "            f.write(res)\n",
    "f.close() \n"
   ]
  },
  {
   "cell_type": "code",
   "execution_count": 6,
   "metadata": {},
   "outputs": [],
   "source": [
    "ALL_K = [1000, 10000]\n",
    "ALL_PIPELINES = [0, 1]\n",
    "DATASETS = ['Criteo', 'YFCC']\n",
    "f = open(f\"./run_all_experiments_k.sh\", \"a\")\n",
    "for k in ALL_K:\n",
    "    for d in DATASETS:\n",
    "        if d == 'Criteo':\n",
    "            MODELS = ['logistic', 'LinearSVC', 'NB']\n",
    "        else:\n",
    "            MODELS = ['logistic', 'RandomForest', 'LinearSVC']\n",
    "        for i in ALL_PIPELINES:\n",
    "            for m in MODELS:\n",
    "                echo = f\"echo 'Experiment {i} {m} {d} {k}'\\n\"\n",
    "                cmd_all = f\"time spark-submit --name 'Experiment {i} {m} {d} {k} Rumble 1' --driver-memory 10G --conf spark.dynamicAllocation.enabled=false --num-executors 4 --executor-cores 2 --executor-memory 19g s3://rumbleml-data/rumbledb-1.16.2-jar-with-deactivatable-optimizations.jar --materialization-cap 100000 --show-error-info yes --query-path 's3://rumbleml-data/rumble_experiments/query_{i}_{m}_{d}_{k}.rumble'\\n\"\n",
    "                cmd_no_sql = f\"time spark-submit --name 'Experiment {i} {m} {d} {k} Rumble 2' --driver-memory 10G --conf spark.dynamicAllocation.enabled=false --num-executors 4 --executor-cores 2 --executor-memory 19g s3://rumbleml-data/rumbledb-1.16.2-jar-with-deactivatable-optimizations.jar --materialization-cap 100000 --native-sql-predicates no --show-error-info yes --query-path 's3://rumbleml-data/rumble_experiments/query_{i}_{m}_{d}_{k}.rumble'\\n\"\n",
    "                cmd_no_df = f\"time spark-submit --name 'Experiment {i} {m} {d} {k} Rumble 3' --driver-memory 10G --conf spark.dynamicAllocation.enabled=false --num-executors 4 --executor-cores 2 --executor-memory 19g s3://rumbleml-data/rumbledb-1.16.2-jar-with-deactivatable-optimizations.jar --materialization-cap 100000 --data-frame-execution-mode-detection no --native-sql-predicates no --show-error-info yes --query-path 's3://rumbleml-data/rumble_experiments/query_{i}_{m}_{d}_{k}.rumble'\\n\"\n",
    "                res = f\"{echo}{cmd_no_df}{cmd_no_sql}{cmd_all}\"\n",
    "                f.write(res)\n",
    "f.close() "
   ]
  },
  {
   "cell_type": "code",
   "execution_count": null,
   "metadata": {},
   "outputs": [],
   "source": []
  }
 ],
 "metadata": {
  "interpreter": {
   "hash": "e134e05457d34029b6460cd73bbf1ed73f339b5b6d98c95be70b69eba114fe95"
  },
  "kernelspec": {
   "display_name": "Python 3.7.6 64-bit ('base': conda)",
   "name": "python3"
  },
  "language_info": {
   "codemirror_mode": {
    "name": "ipython",
    "version": 3
   },
   "file_extension": ".py",
   "mimetype": "text/x-python",
   "name": "python",
   "nbconvert_exporter": "python",
   "pygments_lexer": "ipython3",
   "version": "3.7.6"
  },
  "toc": {
   "base_numbering": 1,
   "nav_menu": {},
   "number_sections": true,
   "sideBar": true,
   "skip_h1_title": false,
   "title_cell": "Table of Contents",
   "title_sidebar": "Contents",
   "toc_cell": false,
   "toc_position": {},
   "toc_section_display": true,
   "toc_window_display": false
  }
 },
 "nbformat": 4,
 "nbformat_minor": 2
}

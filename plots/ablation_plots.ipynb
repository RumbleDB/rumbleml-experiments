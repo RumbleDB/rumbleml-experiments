{
 "cells": [
  {
   "cell_type": "code",
   "execution_count": 2,
   "metadata": {},
   "outputs": [],
   "source": [
    "import glob"
   ]
  },
  {
   "cell_type": "markdown",
   "metadata": {},
   "source": [
    "## Data preprocessing"
   ]
  },
  {
   "cell_type": "code",
   "execution_count": 3,
   "metadata": {},
   "outputs": [],
   "source": [
    "# go through all logs and accuracies\n",
    "logs = glob.glob(\"ablation_study/logs[0-9].txt\")\n",
    "logsx = glob.glob(\"ablation_study/logs[0-9]x.txt\")"
   ]
  },
  {
   "cell_type": "code",
   "execution_count": 4,
   "metadata": {},
   "outputs": [],
   "source": [
    "def get_order(x=False):\n",
    "    if x:\n",
    "        ALL_K = [1000, 10000] # accidentially split up in two\n",
    "    else:\n",
    "        ALL_K = [100000]\n",
    "    ALL_PIPELINES = [0, 1]\n",
    "    DATASETS = ['Criteo', 'YFCC']\n",
    "    order = []\n",
    "    for k in ALL_K:\n",
    "        for d in DATASETS:\n",
    "            if d == 'Criteo':\n",
    "                MODELS = ['logistic', 'LinearSVC', 'NB']\n",
    "            else:\n",
    "                MODELS = ['logistic', 'RandomForest', 'LinearSVC']\n",
    "            for i in ALL_PIPELINES:\n",
    "                for m in MODELS:\n",
    "                    echo = f\"echo 'Experiment {i} {m} {d} {k}'\\n\"\n",
    "                    cmd_all = f\"{i} {m} {d} {k} all\"\n",
    "                    cmd_no_sql = f\"{i} {m} {d} {k} no_sql\"\n",
    "                    cmd_no_df = f\"{i} {m} {d} {k} no df + no sql\"\n",
    "                    order += [cmd_no_df]\n",
    "                    order += [cmd_no_sql]\n",
    "                    order += [cmd_all]\n",
    "    return order\n",
    "    \n",
    "def convert_tstr_to_s(t_str):\n",
    "    if t_str == 'error':\n",
    "        return 0\n",
    "    else:\n",
    "        minutes = float(t_str.split('m')[0])\n",
    "        seconds = float(t_str.split('m')[1].rstrip('s'))\n",
    "        return minutes * 60 + seconds\n",
    "\n",
    "def get_times(log_file, x=False):\n",
    "    res_t = []\n",
    "    log = open(log_file, 'r')\n",
    "    for l in log:\n",
    "        if \"embarrassed\" in l:\n",
    "            res_t += ['error']\n",
    "        if \"real\" in l:\n",
    "            res_t += [l.rstrip('\\n').split('\\t')[1]]\n",
    "    log.close()\n",
    "    \n",
    "    # remove all times recorded after failure\n",
    "    wrong_times = []\n",
    "    for i,_ in enumerate(res_t):\n",
    "        if res_t[i-1] == 'error':\n",
    "            wrong_times += [i]\n",
    "    for i in sorted(wrong_times, reverse=True):\n",
    "        del res_t[i]\n",
    "        \n",
    "    return res_t\n",
    "\n",
    "# merge time results with experiments\n",
    "def merge_results(log, logx):\n",
    "    arr = get_order(x=False)\n",
    "    arrx = get_order(x=True)\n",
    "    assert(len(get_times(log)) == len(arr))\n",
    "    assert(len(get_times(logx)) == len(arrx))\n",
    "    results = list(zip(arrx, get_times(logx)))\n",
    "    results += list(zip(arr, get_times(log)))\n",
    "    \n",
    "    results = map(lambda x: (x[0], convert_tstr_to_s(x[1])), results)\n",
    "    return list(results)"
   ]
  },
  {
   "cell_type": "code",
   "execution_count": 5,
   "metadata": {},
   "outputs": [],
   "source": [
    "def create_viz_table(df, logs, logsx, experiment='1 logistic Criteo'):\n",
    "    for i in range(5):\n",
    "        for j in merge_results(logs[i], logsx[i]):\n",
    "            if experiment in j[0]: \n",
    "                ds_size = j[0].split(' ')[3]\n",
    "                opt = ' '.join(j[0].split(' ')[4:])\n",
    "                if opt == 'no_sql': \n",
    "                    opt = 'no sql'\n",
    "                df = df.append({'time (s)': j[1], 'Data size': ds_size, 'Optimisations': opt}, ignore_index=True)\n",
    "    return df"
   ]
  },
  {
   "cell_type": "markdown",
   "metadata": {},
   "source": [
    "## Plot generation - Time"
   ]
  },
  {
   "cell_type": "code",
   "execution_count": 6,
   "metadata": {},
   "outputs": [],
   "source": [
    "import pandas as pd\n",
    "import seaborn as sns\n",
    "import numpy as np\n",
    "from matplotlib import rcParams\n",
    "rcParams.update({'figure.autolayout': True})\n",
    "sns.set(rc={'figure.figsize':(8,3)})\n",
    "sns.set_style(\"ticks\")\n",
    "experiment = '0 logistic Criteo'\n",
    "df = pd.DataFrame(columns = ['time (s)','Data size','Optimisations'])\n",
    "df = create_viz_table(df, logs, logsx, experiment=experiment)"
   ]
  },
  {
   "cell_type": "code",
   "execution_count": 7,
   "metadata": {},
   "outputs": [
    {
     "data": {
      "image/png": "[encoded data removed]",
      "text/plain": [
       "<Figure size 576x216 with 1 Axes>"
      ]
     },
     "metadata": {},
     "output_type": "display_data"
    }
   ],
   "source": [
    "import matplotlib.pyplot as plt\n",
    "ax = sns.barplot(x=\"Data size\", y=\"time (s)\", hue=\"Optimisations\", data=df, ci=\"sd\")\n",
    "\n",
    "widthbars = [0.17] * 9\n",
    "\n",
    "def change_width(ax, widthbars):\n",
    "    for bar, newwidth in zip(ax.patches, widthbars):\n",
    "        x = bar.get_x()\n",
    "        width = bar.get_width()\n",
    "        centre = x + width/2.\n",
    "        bar.set_x(centre - newwidth/2.)\n",
    "        bar.set_width(newwidth)\n",
    "        \n",
    "change_width(ax, widthbars)\n",
    "ax.set_xlabel('dataset size',fontsize = 15)\n",
    "ax.set_ylabel('time (s)',fontsize = 15)\n",
    "ax.set_xticklabels(['1K', '10K', '100K'],fontsize = 15);\n",
    "sns.move_legend(ax, \"lower center\", bbox_to_anchor=(.5, 1), ncol=3, title=None, frameon=False)\n",
    "plt.setp(ax.get_legend().get_texts(), fontsize='15')\n",
    "\n",
    "plt.savefig('ablation.pdf')"
   ]
  },
  {
   "cell_type": "code",
   "execution_count": null,
   "metadata": {},
   "outputs": [],
   "source": []
  },
  {
   "cell_type": "code",
   "execution_count": null,
   "metadata": {},
   "outputs": [],
   "source": []
  },
  {
   "cell_type": "code",
   "execution_count": null,
   "metadata": {},
   "outputs": [],
   "source": []
  }
 ],
 "metadata": {
  "kernelspec": {
   "display_name": "Python 3",
   "language": "python",
   "name": "python3"
  },
  "language_info": {
   "codemirror_mode": {
    "name": "ipython",
    "version": 3
   },
   "file_extension": ".py",
   "mimetype": "text/x-python",
   "name": "python",
   "nbconvert_exporter": "python",
   "pygments_lexer": "ipython3",
   "version": "3.7.6"
  },
  "toc": {
   "base_numbering": 1,
   "nav_menu": {},
   "number_sections": true,
   "sideBar": true,
   "skip_h1_title": false,
   "title_cell": "Table of Contents",
   "title_sidebar": "Contents",
   "toc_cell": false,
   "toc_position": {},
   "toc_section_display": true,
   "toc_window_display": false
  }
 },
 "nbformat": 4,
 "nbformat_minor": 4
}
